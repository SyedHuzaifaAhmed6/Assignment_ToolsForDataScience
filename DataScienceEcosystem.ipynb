{
 "cells": [
  {
   "cell_type": "markdown",
   "id": "d7b8266f-0048-4690-bd51-430f141d3178",
   "metadata": {},
   "source": [
    "# Data Science Tools and Ecosystem"
   ]
  },
  {
   "cell_type": "markdown",
   "id": "fffd1019-6f67-4da9-88c3-f472260b7f5f",
   "metadata": {},
   "source": [
    "In this notebook, Data Science Tools and Ecosystem are summarized."
   ]
  },
  {
   "cell_type": "markdown",
   "id": "021280ae-aab2-4ad8-bdc2-c93d7b82c62a",
   "metadata": {},
   "source": [
    "**Objectives:**\n",
    "\n",
    "    - Popular Languages for Data Science\n",
    "    - Libraries for Data Science\n",
    "    - Tools for Data Science\n",
    "    - Arithmetic Operations"
   ]
  },
  {
   "cell_type": "markdown",
   "id": "201dfbc1-9cab-4f53-8863-450894ae737d",
   "metadata": {},
   "source": [
    "Some of the popular languages that Data Scientists use are:\n",
    "    \n",
    "    1. Python\n",
    "    2. R\n",
    "    3. SQL\n",
    "    5. Julia"
   ]
  },
  {
   "cell_type": "markdown",
   "id": "9d63575c-7c68-464c-960f-a2c558d17d97",
   "metadata": {},
   "source": [
    "Some of the commonly used libraries used by Data Scientists include:\n",
    "    \n",
    "    1. Pandas\n",
    "    2. Numpy\n",
    "    3. Keras\n",
    "    4. Scikit-Learn\n",
    "    5. XGB Boost"
   ]
  },
  {
   "cell_type": "markdown",
   "id": "d7c2fc35-a7bd-449f-9914-9e9d63566122",
   "metadata": {},
   "source": [
    "| Data Science Tools |\n",
    "|----|\n",
    "| Jupyter Notebook |\n",
    "| IBM Watson |\n",
    "| Kaggle Notebook |\n",
    "| VS Code |"
   ]
  },
  {
   "cell_type": "markdown",
   "id": "f1d5fbed-f81f-404f-ba4b-116ad870d5fc",
   "metadata": {},
   "source": [
    "### Below are a few examples of evaluating arithmetic expressions in Python"
   ]
  },
  {
   "cell_type": "code",
   "execution_count": 1,
   "id": "ee27886b-c5f7-4ea8-9420-7d56217ee2fb",
   "metadata": {},
   "outputs": [
    {
     "data": {
      "text/plain": [
       "17"
      ]
     },
     "execution_count": 1,
     "metadata": {},
     "output_type": "execute_result"
    }
   ],
   "source": [
    "# Simple Arithmetic expression using (*) and (+)\n",
    "(3*4)+5"
   ]
  },
  {
   "cell_type": "code",
   "execution_count": 2,
   "id": "d98b61ef-de94-4bfb-98a3-c7db4c0cd0ff",
   "metadata": {},
   "outputs": [
    {
     "data": {
      "text/plain": [
       "3.3333333333333335"
      ]
     },
     "execution_count": 2,
     "metadata": {},
     "output_type": "execute_result"
    }
   ],
   "source": [
    "# Arithmetic operation to convert '200 min' into 'hrs'\n",
    "(200)/60"
   ]
  },
  {
   "cell_type": "markdown",
   "id": "de516420-f56e-46db-b3d2-6f1fa3341c27",
   "metadata": {},
   "source": [
    "## Author\n",
    "Syed Huzaifa Ahmed"
   ]
  }
 ],
 "metadata": {
  "kernelspec": {
   "display_name": "Python",
   "language": "python",
   "name": "conda-env-python-py"
  },
  "language_info": {
   "codemirror_mode": {
    "name": "ipython",
    "version": 3
   },
   "file_extension": ".py",
   "mimetype": "text/x-python",
   "name": "python",
   "nbconvert_exporter": "python",
   "pygments_lexer": "ipython3",
   "version": "3.7.12"
  }
 },
 "nbformat": 4,
 "nbformat_minor": 5
}
